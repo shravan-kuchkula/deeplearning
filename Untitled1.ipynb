{
 "cells": [
  {
   "cell_type": "markdown",
   "metadata": {},
   "source": [
    "## Initial Presentation\n",
    "Our goal is to compare different deeplearning techniques for object and lane detection problems for self-driving cars.\n",
    "\n",
    "Object and lane detection two of the core problems in self-driving cars. Many techniques have been developed recently to address these two fundamental problems. \n",
    "\n",
    "Convolutional Neural Networks (CNN) are the de-facto algorithm for object detection.\n",
    "\n",
    "Our goal is to research other algorithms that have been developed on top of CNNs:\n",
    "\n",
    "Many state-of-the-art object detection techniques have come to the foreground, most of them are built on top of 2 main algorithms:\n",
    "- Convolution Neural Networks\n",
    "- Recurrent Neural Networks\n",
    "\n",
    "Other algorithms:\n",
    "1. Region based CNN (R-CNN)\n",
    "2. Fast R-CNN \n",
    "3. Region based Fully Convolutional Network (R-FCN)\n",
    "4. You only Look Once (YOLO)\n",
    "5. Single-Shot Detector (SSD) \n",
    "\n",
    "\n",
    "\n",
    "Many of the recent research efforts have \n",
    "\n",
    "Recen\n",
    "\n",
    "Object and Lane detection\n",
    "\n",
    "Recently many algorithms have been developed to address object detection"
   ]
  },
  {
   "cell_type": "markdown",
   "metadata": {},
   "source": [
    "Object and lane detection \n",
    "\n",
    "One of our analysis criteria is the speed \n",
    "\n",
    "Specific performance metrics have been developed to take into account the spatial position of the detected object and the accuracy of the predicted categories.\n",
    "\n",
    "\n",
    "Datasets: (PASCAL VOC, COCO, ImageNet)"
   ]
  }
 ],
 "metadata": {
  "kernelspec": {
   "display_name": "Python 3",
   "language": "python",
   "name": "python3"
  },
  "language_info": {
   "codemirror_mode": {
    "name": "ipython",
    "version": 3
   },
   "file_extension": ".py",
   "mimetype": "text/x-python",
   "name": "python",
   "nbconvert_exporter": "python",
   "pygments_lexer": "ipython3",
   "version": "3.6.6"
  }
 },
 "nbformat": 4,
 "nbformat_minor": 2
}
