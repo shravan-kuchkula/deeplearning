{
 "cells": [
  {
   "cell_type": "markdown",
   "metadata": {},
   "source": [
    "## Introduction\n",
    "Training and evaluating deep neural networks is a computationally intensive task. For modestly sized problems and datasets it may be possible to train your network on the CPU in your local machine, but it could take anywhere from 15 minutes to several hours depending on the number of epochs, the size of the neural networks, and other factors. A faster alternative is to train on a GPU, which is a type of processor that supports greater parallelism.\n",
    "\n",
    "If you do not already have a computer with a built-in NVIDIA GPU, we suggest you use an `Amazon EC2` instance. There are many cloud service providers that offer equivalent functionality, but EC2 is a reasonable default that is available to most students. In the next few sections, we'll go over the steps from nothing to running a neural network on an Amazon server."
   ]
  },
  {
   "cell_type": "markdown",
   "metadata": {},
   "source": [
    "## Viewing Your current limit"
   ]
  },
  {
   "cell_type": "markdown",
   "metadata": {},
   "source": [
    "Amazon Web Services has a service called Elastic Compute Cloud (EC2), which allows you to launch virtual servers (or “instances”), including instances with attached GPUs. The specific type of GPU instance you should launch for this tutorial is called `“p2.xlarge”`. \n",
    "\n",
    "By default, AWS sets a limit of 0 on the number of p2.xlarge instances a user can run, which effectively prevents you from launching this instance. If your limit of p2.xlarge instances is 0, you'll need to increase the limit before you can launch an instance. From the EC2 Service Limits page, click on “Request limit increase” next to “p2.xlarge”. You will not be charged for requesting a limit increase. You will only be charged once you actually launch an instance."
   ]
  },
  {
   "cell_type": "markdown",
   "metadata": {},
   "source": [
    "## Deep Learning AMI\n",
    "Deep Learning AMI comes with deep learning frameworks optimized for high-performance execution on Amazon EC2. Includes TensorFlow, MXNet, PyTorch, Keras, Caffe, Caffe2, Chainer, CNTK and Theano, Anaconda data science distro, and NVIDIA CUDA for your machine learning and deep learning needs.\n",
    "\n",
    "Deep Learning AMI comes with popular deep learning frameworks optimized for high performance on Amazon EC2 instances. Includes Apache MXNet, TensorFlow, PyTorch, Caffe, Caffe2, Keras, Chainer, CNTK and Theano. The deep learning frameworks are installed in Conda environments to provide a reliable and isolated environment for machine learning practitioners. The Deep Learning AMI also includes Anaconda data science distribution, and is provided at no additional charge to Amazon EC2 users.\n",
    "Deep Learning frameworks are pre-configured with latest versions of NVIDIA CUDA, cuDNN and Intel acceleration libraries such as MKL-DNN and iDeep for high performance across Amazon EC2 instances such as P3 and C5.\n",
    "\n",
    "Deep Learning frameworks (with CUDA 8.0, 9.0, 9.1, 9.2 and cuDNN 7.3.1):\n",
    "Apache MXNet 1.3.0. with Gluon\n",
    "TensorFlow 1.11.0 + Horovod\n",
    "Caffe2 0.8.1\n",
    "PyTorch 0.4.1\n",
    "Chainer 4.5.0\n",
    "CNTK 2.6\n",
    "Theano 1.0.3\n",
    "Keras 2.2.4\n",
    "Caffe 1.0 with CUDA 8 and cuDNN 6\n",
    "\n",
    "Deep Learning AMI also comes with model debugging and hosting capabilities:\n",
    "MXNet Model Server 0.4\n",
    "TensorFlow Serving 1.11.0\n",
    "TensorBoard 1.11.0\n",
    "GPU Drivers: NVIDIA Driver 396.44\n",
    "Get started with running your deep learning code in minutes: https://docs.aws.amazon.com/dlami/latest/devguide/tutorial-conda.html\n",
    "For a fully managed experience, use Amazon SageMaker : https://console.aws.amazon.com/sagemaker"
   ]
  },
  {
   "cell_type": "code",
   "execution_count": null,
   "metadata": {},
   "outputs": [],
   "source": []
  }
 ],
 "metadata": {
  "kernelspec": {
   "display_name": "Python 3",
   "language": "python",
   "name": "python3"
  },
  "language_info": {
   "codemirror_mode": {
    "name": "ipython",
    "version": 3
   },
   "file_extension": ".py",
   "mimetype": "text/x-python",
   "name": "python",
   "nbconvert_exporter": "python",
   "pygments_lexer": "ipython3",
   "version": "3.6.6"
  }
 },
 "nbformat": 4,
 "nbformat_minor": 2
}
